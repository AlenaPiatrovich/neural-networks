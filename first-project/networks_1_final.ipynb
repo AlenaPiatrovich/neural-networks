{
  "nbformat": 4,
  "nbformat_minor": 0,
  "metadata": {
    "accelerator": "GPU",
    "colab": {
      "name": "networks_1_final.ipynb",
      "provenance": []
    },
    "kernelspec": {
      "display_name": "Python 3",
      "language": "python",
      "name": "python3"
    },
    "language_info": {
      "codemirror_mode": {
        "name": "ipython",
        "version": 3
      },
      "file_extension": ".py",
      "mimetype": "text/x-python",
      "name": "python",
      "nbconvert_exporter": "python",
      "pygments_lexer": "ipython3",
      "version": "3.8.5"
    },
    "widgets": {
      "application/vnd.jupyter.widget-state+json": {
        "16743adbfc5d4c45ac490f416b9f9adf": {
          "model_module": "@jupyter-widgets/controls",
          "model_name": "HBoxModel",
          "state": {
            "_dom_classes": [],
            "_model_module": "@jupyter-widgets/controls",
            "_model_module_version": "1.5.0",
            "_model_name": "HBoxModel",
            "_view_count": null,
            "_view_module": "@jupyter-widgets/controls",
            "_view_module_version": "1.5.0",
            "_view_name": "HBoxView",
            "box_style": "",
            "children": [
              "IPY_MODEL_4304a075009f41c18e3a41b7e026df3b",
              "IPY_MODEL_a410f9f3cef54445a5dc0d2e82c15649"
            ],
            "layout": "IPY_MODEL_f03c786d8fbc4945ae991a52121bea4c"
          }
        },
        "f03c786d8fbc4945ae991a52121bea4c": {
          "model_module": "@jupyter-widgets/base",
          "model_name": "LayoutModel",
          "state": {
            "_model_module": "@jupyter-widgets/base",
            "_model_module_version": "1.2.0",
            "_model_name": "LayoutModel",
            "_view_count": null,
            "_view_module": "@jupyter-widgets/base",
            "_view_module_version": "1.2.0",
            "_view_name": "LayoutView",
            "align_content": null,
            "align_items": null,
            "align_self": null,
            "border": null,
            "bottom": null,
            "display": null,
            "flex": null,
            "flex_flow": null,
            "grid_area": null,
            "grid_auto_columns": null,
            "grid_auto_flow": null,
            "grid_auto_rows": null,
            "grid_column": null,
            "grid_gap": null,
            "grid_row": null,
            "grid_template_areas": null,
            "grid_template_columns": null,
            "grid_template_rows": null,
            "height": null,
            "justify_content": null,
            "justify_items": null,
            "left": null,
            "margin": null,
            "max_height": null,
            "max_width": null,
            "min_height": null,
            "min_width": null,
            "object_fit": null,
            "object_position": null,
            "order": null,
            "overflow": null,
            "overflow_x": null,
            "overflow_y": null,
            "padding": null,
            "right": null,
            "top": null,
            "visibility": null,
            "width": null
          }
        },
        "4304a075009f41c18e3a41b7e026df3b": {
          "model_module": "@jupyter-widgets/controls",
          "model_name": "FloatProgressModel",
          "state": {
            "_dom_classes": [],
            "_model_module": "@jupyter-widgets/controls",
            "_model_module_version": "1.5.0",
            "_model_name": "FloatProgressModel",
            "_view_count": null,
            "_view_module": "@jupyter-widgets/controls",
            "_view_module_version": "1.5.0",
            "_view_name": "ProgressView",
            "bar_style": "",
            "description": " 35%",
            "description_tooltip": null,
            "layout": "IPY_MODEL_bf8474608be54ce0a26d90f0185b6b78",
            "max": 2454,
            "min": 0,
            "orientation": "horizontal",
            "style": "IPY_MODEL_5eafa9d337764b498fae0781503b21ce",
            "value": 870
          }
        },
        "a410f9f3cef54445a5dc0d2e82c15649": {
          "model_module": "@jupyter-widgets/controls",
          "model_name": "HTMLModel",
          "state": {
            "_dom_classes": [],
            "_model_module": "@jupyter-widgets/controls",
            "_model_module_version": "1.5.0",
            "_model_name": "HTMLModel",
            "_view_count": null,
            "_view_module": "@jupyter-widgets/controls",
            "_view_module_version": "1.5.0",
            "_view_name": "HTMLView",
            "description": "",
            "description_tooltip": null,
            "layout": "IPY_MODEL_018ab2f104b741d5aff5d6a5864fb9eb",
            "placeholder": "​",
            "style": "IPY_MODEL_29f1cd3ab98a48049c4f2952ef09838a",
            "value": " 870/2454 [01:25&lt;02:32, 10.36it/s]"
          }
        },
        "5eafa9d337764b498fae0781503b21ce": {
          "model_module": "@jupyter-widgets/controls",
          "model_name": "ProgressStyleModel",
          "state": {
            "_model_module": "@jupyter-widgets/controls",
            "_model_module_version": "1.5.0",
            "_model_name": "ProgressStyleModel",
            "_view_count": null,
            "_view_module": "@jupyter-widgets/base",
            "_view_module_version": "1.2.0",
            "_view_name": "StyleView",
            "bar_color": null,
            "description_width": "initial"
          }
        },
        "bf8474608be54ce0a26d90f0185b6b78": {
          "model_module": "@jupyter-widgets/base",
          "model_name": "LayoutModel",
          "state": {
            "_model_module": "@jupyter-widgets/base",
            "_model_module_version": "1.2.0",
            "_model_name": "LayoutModel",
            "_view_count": null,
            "_view_module": "@jupyter-widgets/base",
            "_view_module_version": "1.2.0",
            "_view_name": "LayoutView",
            "align_content": null,
            "align_items": null,
            "align_self": null,
            "border": null,
            "bottom": null,
            "display": null,
            "flex": null,
            "flex_flow": null,
            "grid_area": null,
            "grid_auto_columns": null,
            "grid_auto_flow": null,
            "grid_auto_rows": null,
            "grid_column": null,
            "grid_gap": null,
            "grid_row": null,
            "grid_template_areas": null,
            "grid_template_columns": null,
            "grid_template_rows": null,
            "height": null,
            "justify_content": null,
            "justify_items": null,
            "left": null,
            "margin": null,
            "max_height": null,
            "max_width": null,
            "min_height": null,
            "min_width": null,
            "object_fit": null,
            "object_position": null,
            "order": null,
            "overflow": null,
            "overflow_x": null,
            "overflow_y": null,
            "padding": null,
            "right": null,
            "top": null,
            "visibility": null,
            "width": null
          }
        },
        "29f1cd3ab98a48049c4f2952ef09838a": {
          "model_module": "@jupyter-widgets/controls",
          "model_name": "DescriptionStyleModel",
          "state": {
            "_model_module": "@jupyter-widgets/controls",
            "_model_module_version": "1.5.0",
            "_model_name": "DescriptionStyleModel",
            "_view_count": null,
            "_view_module": "@jupyter-widgets/base",
            "_view_module_version": "1.2.0",
            "_view_name": "StyleView",
            "description_width": ""
          }
        },
        "018ab2f104b741d5aff5d6a5864fb9eb": {
          "model_module": "@jupyter-widgets/base",
          "model_name": "LayoutModel",
          "state": {
            "_model_module": "@jupyter-widgets/base",
            "_model_module_version": "1.2.0",
            "_model_name": "LayoutModel",
            "_view_count": null,
            "_view_module": "@jupyter-widgets/base",
            "_view_module_version": "1.2.0",
            "_view_name": "LayoutView",
            "align_content": null,
            "align_items": null,
            "align_self": null,
            "border": null,
            "bottom": null,
            "display": null,
            "flex": null,
            "flex_flow": null,
            "grid_area": null,
            "grid_auto_columns": null,
            "grid_auto_flow": null,
            "grid_auto_rows": null,
            "grid_column": null,
            "grid_gap": null,
            "grid_row": null,
            "grid_template_areas": null,
            "grid_template_columns": null,
            "grid_template_rows": null,
            "height": null,
            "justify_content": null,
            "justify_items": null,
            "left": null,
            "margin": null,
            "max_height": null,
            "max_width": null,
            "min_height": null,
            "min_width": null,
            "object_fit": null,
            "object_position": null,
            "order": null,
            "overflow": null,
            "overflow_x": null,
            "overflow_y": null,
            "padding": null,
            "right": null,
            "top": null,
            "visibility": null,
            "width": null
          }
        }
      }
    }
  },
  "cells": [
    {
      "cell_type": "markdown",
      "metadata": {
        "id": "z48V8kEYyJHk"
      },
      "source": [
        "#Hometask 1 (Neural networks course, BSU)\n",
        "\n",
        "Classifier for EMNIST."
      ]
    },
    {
      "cell_type": "markdown",
      "metadata": {
        "id": "riEFSDFGyr4j"
      },
      "source": [
        "##Preparing data"
      ]
    },
    {
      "cell_type": "code",
      "metadata": {
        "colab": {
          "base_uri": "https://localhost:8080/"
        },
        "id": "7Ygz7yOmddsK",
        "outputId": "5cbb6d4d-1f33-4ffb-9d51-2ada412b091b"
      },
      "source": [
        "!unzip bsu2021-emnist.zip"
      ],
      "execution_count": null,
      "outputs": [
        {
          "output_type": "stream",
          "text": [
            "unzip:  cannot find or open bsu2021-emnist.zip, bsu2021-emnist.zip.zip or bsu2021-emnist.zip.ZIP.\r\n"
          ],
          "name": "stdout"
        }
      ]
    },
    {
      "cell_type": "markdown",
      "metadata": {
        "id": "rU1QC1-uyu-E"
      },
      "source": [
        "###Loading data"
      ]
    },
    {
      "cell_type": "code",
      "metadata": {
        "id": "Jup5A8sMHU7p"
      },
      "source": [
        "import numpy as np\n",
        "# Load training data\n",
        "data = np.load('emnist-byclass-train.npz')\n",
        "train_labels = data['training_labels']\n",
        "train_data = data['training_images']\n",
        "\n",
        "# Load testing data\n",
        "test_data = np.load('emnist-byclass-test.npz')['testing_images']"
      ],
      "execution_count": null,
      "outputs": []
    },
    {
      "cell_type": "code",
      "metadata": {
        "id": "5mnCANplnohh"
      },
      "source": [
        "train_len = int(len(train_labels) * 0.9)\n",
        "\n",
        "X_train = train_data[:train_len]\n",
        "y_train = train_labels[:train_len]\n",
        "\n",
        "X_val = train_data[train_len:]\n",
        "y_val = train_labels[train_len:]"
      ],
      "execution_count": null,
      "outputs": []
    },
    {
      "cell_type": "code",
      "metadata": {
        "colab": {
          "base_uri": "https://localhost:8080/"
        },
        "id": "88etGKZToOCR",
        "outputId": "399da334-cab7-40c8-c673-86b86e6a6925"
      },
      "source": [
        "len(y_train), len(y_val)"
      ],
      "execution_count": null,
      "outputs": [
        {
          "output_type": "execute_result",
          "data": {
            "text/plain": [
              "(628138, 69794)"
            ]
          },
          "metadata": {
            "tags": []
          },
          "execution_count": 4
        }
      ]
    },
    {
      "cell_type": "code",
      "metadata": {
        "id": "MpQJlSBHj31T"
      },
      "source": [
        "from matplotlib import pyplot as plt\n",
        "import skimage"
      ],
      "execution_count": null,
      "outputs": []
    },
    {
      "cell_type": "code",
      "metadata": {
        "colab": {
          "base_uri": "https://localhost:8080/",
          "height": 484
        },
        "id": "qIMrMNeVjhmz",
        "outputId": "d10b041b-77bb-4a0c-f6a0-4f4f3b6a2dbc"
      },
      "source": [
        "plt.figure(figsize=(10,8))\n",
        "\n",
        "for i in range(9):\n",
        "\n",
        "    plt.subplot(3,3,i+1)\n",
        "    im = skimage.img_as_ubyte(train_data[i])\n",
        "    plt.imshow(im)\n"
      ],
      "execution_count": null,
      "outputs": [
        {
          "output_type": "display_data",
          "data": {
            "image/png": "[encoded data removed]",
            "text/plain": [
              "<Figure size 720x576 with 9 Axes>"
            ]
          },
          "metadata": {
            "tags": [],
            "needs_background": "light"
          }
        }
      ]
    },
    {
      "cell_type": "markdown",
      "metadata": {
        "id": "ggwwcarMy0MN"
      },
      "source": [
        "###Data augmentation"
      ]
    },
    {
      "cell_type": "code",
      "metadata": {
        "id": "Yhv0cSwvjgo2"
      },
      "source": [
        "# data augmentation\n",
        "import torchvision\n",
        "from torchvision import transforms\n",
        "# import imageUtils\n",
        "\n",
        "\n",
        "transform_train = transforms.Compose([\n",
        "      transforms.RandomRotation([-20,20]),\n",
        "#       transforms.RandomHorizontalFlip(),\n",
        "      transforms.ToTensor()\n",
        "])\n",
        "\n",
        "\n",
        "transform_test = transforms.Compose([\n",
        "    transforms.ToTensor()\n",
        "])"
      ],
      "execution_count": null,
      "outputs": []
    },
    {
      "cell_type": "code",
      "metadata": {
        "id": "RJ6WQY8Qklni"
      },
      "source": [
        "from pathlib import Path\n",
        "from torch.utils.data import Dataset\n",
        "from skimage import io\n",
        "from PIL import Image\n",
        "\n",
        "class EMnistDataset(Dataset):\n",
        "\n",
        "    def __init__(self, X, y=None, transform=None):\n",
        "        self.transform = transform\n",
        "        self.X = X\n",
        "        self.y = y\n",
        "\n",
        "    def __len__(self):\n",
        "        return len(self.X)\n",
        "\n",
        "    def __getitem__(self, idx):\n",
        "        \n",
        "        image = self.X[idx] \n",
        "        if self.transform:\n",
        "            image = self.transform(Image.fromarray(image))\n",
        "\n",
        "        if self.y is not None:\n",
        "            label = self.y[idx]\n",
        "            return image, label\n",
        "        else:\n",
        "            return image\n",
        "\n",
        "        \n",
        "        \n"
      ],
      "execution_count": null,
      "outputs": []
    },
    {
      "cell_type": "markdown",
      "metadata": {
        "id": "bt2hW933z1dG"
      },
      "source": [
        "###Creating datasets"
      ]
    },
    {
      "cell_type": "code",
      "metadata": {
        "id": "WVr7kdBFoXwE"
      },
      "source": [
        "train_dataset = EMnistDataset(X_train, y_train, transform=transform_train)\n",
        "val_dataset = EMnistDataset(X_val, y_val, transform=transform_train)\n",
        "test_dataset = EMnistDataset(test_data, transform=transform_test)"
      ],
      "execution_count": null,
      "outputs": []
    },
    {
      "cell_type": "markdown",
      "metadata": {
        "id": "wxTkoeCoz5MU"
      },
      "source": [
        "##Bulding a network"
      ]
    },
    {
      "cell_type": "code",
      "metadata": {
        "id": "nWwtWyBIovnJ"
      },
      "source": [
        "import torch\n",
        "import torch.nn.functional as F\n",
        "from torch import nn\n",
        "\n",
        "class StackedLayer(nn.Module):\n",
        "    def __init__(self, in_channels, out_channels, kernel_size=3, stride=1):\n",
        "        super().__init__()\n",
        "        self.first_conv = nn.Conv2d(in_channels, out_channels, kernel_size=kernel_size, padding=1)\n",
        "        self.first_batchnorm = nn.BatchNorm2d(out_channels)\n",
        "        self.first_relu = nn.ReLU()\n",
        "        self.second_conv = nn.Conv2d(out_channels, out_channels, kernel_size=kernel_size, padding=1)\n",
        "        self.second_batchnorm = nn.BatchNorm2d(out_channels)\n",
        "        self.second_relu = nn.ReLU()\n",
        "        self.third_conv = nn.Conv2d(out_channels, out_channels, kernel_size=kernel_size, padding=1)\n",
        "        self.third_batchnorm = nn.BatchNorm2d(out_channels)\n",
        "        self.third_relu = nn.ReLU()\n",
        "    def forward(self, x):\n",
        "        out = self.first_conv(x)\n",
        "        out = self.first_batchnorm(out)\n",
        "        out = self.first_relu(out)\n",
        "        out = self.second_conv(out)\n",
        "        out = self.second_batchnorm(out)\n",
        "        out = self.second_relu(out)\n",
        "        out = self.third_conv(out)\n",
        "        out = self.third_batchnorm(out)\n",
        "        out = self.third_relu(out)\n",
        "\n",
        "        return out + x\n",
        "\n",
        "class MyResNet(nn.Module):\n",
        "    \"\"\"https://neurohive.io/ru/vidy-nejrosetej/resnet-34-50-101/\"\"\"\n",
        "    def __init__(self, num_classes=62):\n",
        "        super().__init__()\n",
        "        model = nn.Sequential()\n",
        "\n",
        "        model.add_module('conv_begin', nn.Conv2d(1, 32, kernel_size=3, stride=2))\n",
        "        model.add_module('pool1', nn.MaxPool2d((2,2)))\n",
        "\n",
        "        model.add_module('stacked1', StackedLayer(32,32))\n",
        "        model.add_module('conv1', nn.Conv2d(32, 64, kernel_size=1))\n",
        "        model.add_module('stacked2', StackedLayer(64,64))\n",
        "        model.add_module('conv2', nn.Conv2d(64, 128, kernel_size=3))\n",
        "        model.add_module('stacked3', StackedLayer(128,128))\n",
        "        model.add_module('conv3', nn.Conv2d(128, 256, kernel_size=1))\n",
        "        model.add_module('stacked4', StackedLayer(256,256))\n",
        "\n",
        "        #model.add_module('stacked4', StackedLayer(64,64, stride=2)) \n",
        "\n",
        "        '''model.add_module('stacked5', StackedLayer(128,128))\n",
        "        model.add_module('stacked6', StackedLayer(128,128))\n",
        "        model.add_module('stacked7', StackedLayer(128,128))\n",
        "\n",
        "        model.add_module('stacked8', StackedLayer(128,256, stride=2)) \n",
        "\n",
        "        model.add_module('stacked9', StackedLayer(256,256))\n",
        "        model.add_module('stacked10', StackedLayer(256,256))\n",
        "        model.add_module('stacked11', StackedLayer(256,256))\n",
        "        model.add_module('stacked12', StackedLayer(256,256))\n",
        "        model.add_module('stacked13', StackedLayer(256,256))\n",
        "\n",
        "        model.add_module('stacked14', StackedLayer(256,512, stride=2)) \n",
        "\n",
        "        model.add_module('stacked15', StackedLayer(512,512))\n",
        "        model.add_module('stacked16', StackedLayer(512,512))'''\n",
        "\n",
        "        model.add_module('pool', nn.AvgPool2d((2,2)))\n",
        "        model.add_module('flatten', nn.Flatten())\n",
        "\n",
        "        model.add_module('dense1', nn.Linear(1024, 512))\n",
        "        model.add_module(\"dense1_bn\", nn.BatchNorm1d(512))\n",
        "        model.add_module('dense1_relu', nn.ReLU())\n",
        "        model.add_module('drop', nn.Dropout(0.3))\n",
        "        model.add_module('dense2', nn.Linear(512, 256))\n",
        "        model.add_module(\"dense2_bn\", nn.BatchNorm1d(256))\n",
        "        model.add_module('dense2_relu', nn.ReLU())\n",
        "        model.add_module('dense3', nn.Linear(256, num_classes))\n",
        "\n",
        "        \n",
        "\n",
        "        self.model = model\n",
        "\n",
        "    def forward(self, x):\n",
        "        return self.model(x)"
      ],
      "execution_count": null,
      "outputs": []
    },
    {
      "cell_type": "code",
      "metadata": {
        "colab": {
          "base_uri": "https://localhost:8080/"
        },
        "id": "Pq9U590EMcsM",
        "outputId": "94cab888-f982-4f38-ddc7-614370c7ce11"
      },
      "source": [
        "model = MyResNet().cuda()\n",
        "from torchsummary import summary\n",
        "\n",
        "summary(model, (1, 28, 28))"
      ],
      "execution_count": null,
      "outputs": [
        {
          "output_type": "stream",
          "text": [
            "----------------------------------------------------------------\n",
            "        Layer (type)               Output Shape         Param #\n",
            "================================================================\n",
            "            Conv2d-1           [-1, 32, 13, 13]             320\n",
            "         MaxPool2d-2             [-1, 32, 6, 6]               0\n",
            "            Conv2d-3             [-1, 32, 6, 6]           9,248\n",
            "       BatchNorm2d-4             [-1, 32, 6, 6]              64\n",
            "              ReLU-5             [-1, 32, 6, 6]               0\n",
            "            Conv2d-6             [-1, 32, 6, 6]           9,248\n",
            "       BatchNorm2d-7             [-1, 32, 6, 6]              64\n",
            "              ReLU-8             [-1, 32, 6, 6]               0\n",
            "            Conv2d-9             [-1, 32, 6, 6]           9,248\n",
            "      BatchNorm2d-10             [-1, 32, 6, 6]              64\n",
            "             ReLU-11             [-1, 32, 6, 6]               0\n",
            "     StackedLayer-12             [-1, 32, 6, 6]               0\n",
            "           Conv2d-13             [-1, 64, 6, 6]           2,112\n",
            "           Conv2d-14             [-1, 64, 6, 6]          36,928\n",
            "      BatchNorm2d-15             [-1, 64, 6, 6]             128\n",
            "             ReLU-16             [-1, 64, 6, 6]               0\n",
            "           Conv2d-17             [-1, 64, 6, 6]          36,928\n",
            "      BatchNorm2d-18             [-1, 64, 6, 6]             128\n",
            "             ReLU-19             [-1, 64, 6, 6]               0\n",
            "           Conv2d-20             [-1, 64, 6, 6]          36,928\n",
            "      BatchNorm2d-21             [-1, 64, 6, 6]             128\n",
            "             ReLU-22             [-1, 64, 6, 6]               0\n",
            "     StackedLayer-23             [-1, 64, 6, 6]               0\n",
            "           Conv2d-24            [-1, 128, 4, 4]          73,856\n",
            "           Conv2d-25            [-1, 128, 4, 4]         147,584\n",
            "      BatchNorm2d-26            [-1, 128, 4, 4]             256\n",
            "             ReLU-27            [-1, 128, 4, 4]               0\n",
            "           Conv2d-28            [-1, 128, 4, 4]         147,584\n",
            "      BatchNorm2d-29            [-1, 128, 4, 4]             256\n",
            "             ReLU-30            [-1, 128, 4, 4]               0\n",
            "           Conv2d-31            [-1, 128, 4, 4]         147,584\n",
            "      BatchNorm2d-32            [-1, 128, 4, 4]             256\n",
            "             ReLU-33            [-1, 128, 4, 4]               0\n",
            "     StackedLayer-34            [-1, 128, 4, 4]               0\n",
            "           Conv2d-35            [-1, 256, 4, 4]          33,024\n",
            "           Conv2d-36            [-1, 256, 4, 4]         590,080\n",
            "      BatchNorm2d-37            [-1, 256, 4, 4]             512\n",
            "             ReLU-38            [-1, 256, 4, 4]               0\n",
            "           Conv2d-39            [-1, 256, 4, 4]         590,080\n",
            "      BatchNorm2d-40            [-1, 256, 4, 4]             512\n",
            "             ReLU-41            [-1, 256, 4, 4]               0\n",
            "           Conv2d-42            [-1, 256, 4, 4]         590,080\n",
            "      BatchNorm2d-43            [-1, 256, 4, 4]             512\n",
            "             ReLU-44            [-1, 256, 4, 4]               0\n",
            "     StackedLayer-45            [-1, 256, 4, 4]               0\n",
            "        AvgPool2d-46            [-1, 256, 2, 2]               0\n",
            "          Flatten-47                 [-1, 1024]               0\n",
            "           Linear-48                  [-1, 512]         524,800\n",
            "      BatchNorm1d-49                  [-1, 512]           1,024\n",
            "             ReLU-50                  [-1, 512]               0\n",
            "          Dropout-51                  [-1, 512]               0\n",
            "           Linear-52                  [-1, 256]         131,328\n",
            "      BatchNorm1d-53                  [-1, 256]             512\n",
            "             ReLU-54                  [-1, 256]               0\n",
            "           Linear-55                   [-1, 62]          15,934\n",
            "================================================================\n",
            "Total params: 3,137,310\n",
            "Trainable params: 3,137,310\n",
            "Non-trainable params: 0\n",
            "----------------------------------------------------------------\n",
            "Input size (MB): 0.00\n",
            "Forward/backward pass size (MB): 0.88\n",
            "Params size (MB): 11.97\n",
            "Estimated Total Size (MB): 12.86\n",
            "----------------------------------------------------------------\n"
          ],
          "name": "stdout"
        }
      ]
    },
    {
      "cell_type": "markdown",
      "metadata": {
        "id": "nu0ScSVr0D6G"
      },
      "source": [
        "##Training"
      ]
    },
    {
      "cell_type": "code",
      "metadata": {
        "colab": {
          "base_uri": "https://localhost:8080/",
          "height": 138,
          "referenced_widgets": [
            "16743adbfc5d4c45ac490f416b9f9adf",
            "f03c786d8fbc4945ae991a52121bea4c",
            "4304a075009f41c18e3a41b7e026df3b",
            "a410f9f3cef54445a5dc0d2e82c15649",
            "5eafa9d337764b498fae0781503b21ce",
            "bf8474608be54ce0a26d90f0185b6b78",
            "29f1cd3ab98a48049c4f2952ef09838a",
            "018ab2f104b741d5aff5d6a5864fb9eb",
            "82e6577f8c5744fcb972dfd41ec41002",
            "d1dd15e7571e4de4b9ce16da989aa977",
            "cf6c013ee46647008b86e16cf0e3c8a0",
            "7adaad26976240768490c52ad2949b5d",
            "e4f53e24f24a4cf6b1da18f6bfe9278c"
          ]
        },
        "id": "d0BTQZriSSFv",
        "outputId": "44699865-8dab-49f8-ccb6-f3fd7b580fca"
      },
      "source": [
        "import gc\n",
        "import time\n",
        "\n",
        "from tqdm import tqdm_notebook as tqdm\n",
        "from torch.autograd import Variable\n",
        "from sklearn.metrics import accuracy_score\n",
        "\n",
        "num_epochs = 15 # total amount of full passes over training data\n",
        "batch_size = 64  # number of samples processed in one SGD iteration\n",
        "\n",
        "train_loader = torch.utils.data.DataLoader(train_dataset,\n",
        "                                             batch_size=batch_size, shuffle=True,\n",
        "                                             num_workers=8)\n",
        "\n",
        "val_loader = torch.utils.data.DataLoader(val_dataset,\n",
        "                                             batch_size=batch_size, shuffle=False,\n",
        "                                             num_workers=8)\n",
        "\n",
        "opt = torch.optim.Adam(model.parameters(), lr=1e-3, weight_decay=1e-5)\n",
        "criterion = nn.CrossEntropyLoss()\n",
        "\n",
        "train_loss = []\n",
        "\n",
        "val_loss = []\n",
        "val_accuracy = []\n",
        "\n",
        "\n",
        "for epoch in range(num_epochs):\n",
        "    # In each epoch, we do a full pass over the training data:\n",
        "    start_time = time.time()\n",
        "    model.train(True) # enable dropout / batch_norm training behavior\n",
        "    for X_batch, y_batch in tqdm(train_loader):\n",
        "        # train on batch\n",
        "        loss = criterion(model(X_batch.cuda()), y_batch.long().cuda())\n",
        "        loss.backward()\n",
        "        opt.step()\n",
        "        opt.zero_grad()\n",
        "        train_loss.append(loss.data.cpu().numpy())\n",
        "        gc.collect()\n",
        "        \n",
        "    # And a full pass over the validation data:\n",
        "    model.train(False) # disable dropout / use averages for batch_norm\n",
        "    y_batch_values = []\n",
        "    y_pred_values = []\n",
        "    for X_batch, y_batch in tqdm(val_loader, desc=\"val\"):\n",
        "        logits = model(Variable(torch.FloatTensor(X_batch).cuda()))\n",
        "\n",
        "        y_pred = logits.argmax(-1)\n",
        "        val_loss.append(loss.data.cpu().numpy())\n",
        "        gc.collect()\n",
        "        #val_accuracy = accuracy_score(y_batch, y_pred)\n",
        "        y_batch_values.append(y_batch)\n",
        "        y_pred_values.append(y_pred)\n",
        "    \n",
        "    # Then we print the results for this epoch:\n",
        "    print(\"Epoch {} of {} took {:.3f}s\".format(\n",
        "        epoch + 1, num_epochs, time.time() - start_time))\n",
        "    print(\"  training loss (in-iteration): \\t{:.6f}\".format(\n",
        "        np.mean(train_loss[-len(train_loader) // batch_size :])))\n",
        "    print(\"  val loss (in-iteration): \\t{:.6f}\".format(\n",
        "        np.mean(val_loss[-len(val_loader) // batch_size :])))\n",
        "    print(\"  validation accuracy: \\t\\t\\t{:.6f} \".format(\n",
        "        accuracy_score(torch.cat(y_batch_values).cpu() , torch.cat(y_pred_values).cpu())))"
      ],
      "execution_count": null,
      "outputs": [
        {
          "output_type": "stream",
          "text": [
            "<ipython-input-15-e0e83f229c6a>:32: TqdmDeprecationWarning: This function will be removed in tqdm==5.0.0\n",
            "Please use `tqdm.notebook.tqdm` instead of `tqdm.tqdm_notebook`\n",
            "  for X_batch, y_batch in tqdm(train_loader):\n"
          ],
          "name": "stderr"
        },
        {
          "output_type": "display_data",
          "data": {
            "application/vnd.jupyter.widget-view+json": {
              "model_id": "82e6577f8c5744fcb972dfd41ec41002",
              "version_major": 2,
              "version_minor": 0
            },
            "text/plain": [
              "HBox(children=(FloatProgress(value=0.0, max=9815.0), HTML(value='')))"
            ]
          },
          "metadata": {
            "tags": []
          }
        },
        {
          "output_type": "stream",
          "text": [
            "\n"
          ],
          "name": "stdout"
        },
        {
          "output_type": "stream",
          "text": [
            "<ipython-input-15-e0e83f229c6a>:45: TqdmDeprecationWarning: This function will be removed in tqdm==5.0.0\n",
            "Please use `tqdm.notebook.tqdm` instead of `tqdm.tqdm_notebook`\n",
            "  for X_batch, y_batch in tqdm(val_loader, desc=\"val\"):\n"
          ],
          "name": "stderr"
        },
        {
          "output_type": "display_data",
          "data": {
            "application/vnd.jupyter.widget-view+json": {
              "model_id": "d1dd15e7571e4de4b9ce16da989aa977",
              "version_major": 2,
              "version_minor": 0
            },
            "text/plain": [
              "HBox(children=(FloatProgress(value=0.0, description='val', max=1091.0, style=ProgressStyle(description_width='…"
            ]
          },
          "metadata": {
            "tags": []
          }
        },
        {
          "output_type": "stream",
          "text": [
            "\n",
            "Epoch 1 of 15 took 749.019s\n",
            "  training loss (in-iteration): \t0.403421\n",
            "  val loss (in-iteration): \t0.297989\n",
            "  validation accuracy: \t\t\t0.856664 \n"
          ],
          "name": "stdout"
        },
        {
          "output_type": "display_data",
          "data": {
            "application/vnd.jupyter.widget-view+json": {
              "model_id": "cf6c013ee46647008b86e16cf0e3c8a0",
              "version_major": 2,
              "version_minor": 0
            },
            "text/plain": [
              "HBox(children=(FloatProgress(value=0.0, max=9815.0), HTML(value='')))"
            ]
          },
          "metadata": {
            "tags": []
          }
        },
        {
          "output_type": "stream",
          "text": [
            "\n"
          ],
          "name": "stdout"
        },
        {
          "output_type": "display_data",
          "data": {
            "application/vnd.jupyter.widget-view+json": {
              "model_id": "7adaad26976240768490c52ad2949b5d",
              "version_major": 2,
              "version_minor": 0
            },
            "text/plain": [
              "HBox(children=(FloatProgress(value=0.0, description='val', max=1091.0, style=ProgressStyle(description_width='…"
            ]
          },
          "metadata": {
            "tags": []
          }
        },
        {
          "output_type": "stream",
          "text": [
            "\n",
            "Epoch 2 of 15 took 782.531s\n",
            "  training loss (in-iteration): \t0.395921\n",
            "  val loss (in-iteration): \t0.354889\n",
            "  validation accuracy: \t\t\t0.855389 \n"
          ],
          "name": "stdout"
        },
        {
          "output_type": "display_data",
          "data": {
            "application/vnd.jupyter.widget-view+json": {
              "model_id": "e4f53e24f24a4cf6b1da18f6bfe9278c",
              "version_major": 2,
              "version_minor": 0
            },
            "text/plain": [
              "HBox(children=(FloatProgress(value=0.0, max=9815.0), HTML(value='')))"
            ]
          },
          "metadata": {
            "tags": []
          }
        },
        {
          "output_type": "stream",
          "text": [
            "\n"
          ],
          "name": "stdout"
        },
        {
          "output_type": "error",
          "ename": "KeyboardInterrupt",
          "evalue": "",
          "traceback": [
            "\u001b[0;31m---------------------------------------------------------------------------\u001b[0m",
            "\u001b[0;31mKeyboardInterrupt\u001b[0m                         Traceback (most recent call last)",
            "\u001b[0;32m<ipython-input-15-e0e83f229c6a>\u001b[0m in \u001b[0;36m<module>\u001b[0;34m\u001b[0m\n\u001b[1;32m     33\u001b[0m         \u001b[0;31m# train on batch\u001b[0m\u001b[0;34m\u001b[0m\u001b[0;34m\u001b[0m\u001b[0;34m\u001b[0m\u001b[0m\n\u001b[1;32m     34\u001b[0m         \u001b[0mloss\u001b[0m \u001b[0;34m=\u001b[0m \u001b[0mcriterion\u001b[0m\u001b[0;34m(\u001b[0m\u001b[0mmodel\u001b[0m\u001b[0;34m(\u001b[0m\u001b[0mX_batch\u001b[0m\u001b[0;34m.\u001b[0m\u001b[0mcuda\u001b[0m\u001b[0;34m(\u001b[0m\u001b[0;34m)\u001b[0m\u001b[0;34m)\u001b[0m\u001b[0;34m,\u001b[0m \u001b[0my_batch\u001b[0m\u001b[0;34m.\u001b[0m\u001b[0mlong\u001b[0m\u001b[0;34m(\u001b[0m\u001b[0;34m)\u001b[0m\u001b[0;34m.\u001b[0m\u001b[0mcuda\u001b[0m\u001b[0;34m(\u001b[0m\u001b[0;34m)\u001b[0m\u001b[0;34m)\u001b[0m\u001b[0;34m\u001b[0m\u001b[0;34m\u001b[0m\u001b[0m\n\u001b[0;32m---> 35\u001b[0;31m         \u001b[0mloss\u001b[0m\u001b[0;34m.\u001b[0m\u001b[0mbackward\u001b[0m\u001b[0;34m(\u001b[0m\u001b[0;34m)\u001b[0m\u001b[0;34m\u001b[0m\u001b[0;34m\u001b[0m\u001b[0m\n\u001b[0m\u001b[1;32m     36\u001b[0m         \u001b[0mopt\u001b[0m\u001b[0;34m.\u001b[0m\u001b[0mstep\u001b[0m\u001b[0;34m(\u001b[0m\u001b[0;34m)\u001b[0m\u001b[0;34m\u001b[0m\u001b[0;34m\u001b[0m\u001b[0m\n\u001b[1;32m     37\u001b[0m         \u001b[0mopt\u001b[0m\u001b[0;34m.\u001b[0m\u001b[0mzero_grad\u001b[0m\u001b[0;34m(\u001b[0m\u001b[0;34m)\u001b[0m\u001b[0;34m\u001b[0m\u001b[0;34m\u001b[0m\u001b[0m\n",
            "\u001b[0;32m~/.local/lib/python3.8/site-packages/torch/tensor.py\u001b[0m in \u001b[0;36mbackward\u001b[0;34m(self, gradient, retain_graph, create_graph)\u001b[0m\n\u001b[1;32m    183\u001b[0m                 \u001b[0mproducts\u001b[0m\u001b[0;34m.\u001b[0m \u001b[0mDefaults\u001b[0m \u001b[0mto\u001b[0m\u001b[0;31m \u001b[0m\u001b[0;31m`\u001b[0m\u001b[0;31m`\u001b[0m\u001b[0;32mFalse\u001b[0m\u001b[0;31m`\u001b[0m\u001b[0;31m`\u001b[0m\u001b[0;34m.\u001b[0m\u001b[0;34m\u001b[0m\u001b[0;34m\u001b[0m\u001b[0m\n\u001b[1;32m    184\u001b[0m         \"\"\"\n\u001b[0;32m--> 185\u001b[0;31m         \u001b[0mtorch\u001b[0m\u001b[0;34m.\u001b[0m\u001b[0mautograd\u001b[0m\u001b[0;34m.\u001b[0m\u001b[0mbackward\u001b[0m\u001b[0;34m(\u001b[0m\u001b[0mself\u001b[0m\u001b[0;34m,\u001b[0m \u001b[0mgradient\u001b[0m\u001b[0;34m,\u001b[0m \u001b[0mretain_graph\u001b[0m\u001b[0;34m,\u001b[0m \u001b[0mcreate_graph\u001b[0m\u001b[0;34m)\u001b[0m\u001b[0;34m\u001b[0m\u001b[0;34m\u001b[0m\u001b[0m\n\u001b[0m\u001b[1;32m    186\u001b[0m \u001b[0;34m\u001b[0m\u001b[0m\n\u001b[1;32m    187\u001b[0m     \u001b[0;32mdef\u001b[0m \u001b[0mregister_hook\u001b[0m\u001b[0;34m(\u001b[0m\u001b[0mself\u001b[0m\u001b[0;34m,\u001b[0m \u001b[0mhook\u001b[0m\u001b[0;34m)\u001b[0m\u001b[0;34m:\u001b[0m\u001b[0;34m\u001b[0m\u001b[0;34m\u001b[0m\u001b[0m\n",
            "\u001b[0;32m~/.local/lib/python3.8/site-packages/torch/autograd/__init__.py\u001b[0m in \u001b[0;36mbackward\u001b[0;34m(tensors, grad_tensors, retain_graph, create_graph, grad_variables)\u001b[0m\n\u001b[1;32m    123\u001b[0m         \u001b[0mretain_graph\u001b[0m \u001b[0;34m=\u001b[0m \u001b[0mcreate_graph\u001b[0m\u001b[0;34m\u001b[0m\u001b[0;34m\u001b[0m\u001b[0m\n\u001b[1;32m    124\u001b[0m \u001b[0;34m\u001b[0m\u001b[0m\n\u001b[0;32m--> 125\u001b[0;31m     Variable._execution_engine.run_backward(\n\u001b[0m\u001b[1;32m    126\u001b[0m         \u001b[0mtensors\u001b[0m\u001b[0;34m,\u001b[0m \u001b[0mgrad_tensors\u001b[0m\u001b[0;34m,\u001b[0m \u001b[0mretain_graph\u001b[0m\u001b[0;34m,\u001b[0m \u001b[0mcreate_graph\u001b[0m\u001b[0;34m,\u001b[0m\u001b[0;34m\u001b[0m\u001b[0;34m\u001b[0m\u001b[0m\n\u001b[1;32m    127\u001b[0m         allow_unreachable=True)  # allow_unreachable flag\n",
            "\u001b[0;31mKeyboardInterrupt\u001b[0m: "
          ]
        }
      ]
    },
    {
      "cell_type": "markdown",
      "metadata": {
        "id": "TEDq3vPw0IMO"
      },
      "source": [
        "##Predicting"
      ]
    },
    {
      "cell_type": "code",
      "metadata": {
        "id": "mbPi-Dq0jTCA"
      },
      "source": [
        "test_loader = torch.utils.data.DataLoader(test_dataset,\n",
        "                                             batch_size=batch_size, shuffle=False,\n",
        "                                             num_workers=3)"
      ],
      "execution_count": null,
      "outputs": []
    },
    {
      "cell_type": "markdown",
      "metadata": {
        "id": "IpJD2qG_0LTe"
      },
      "source": [
        "###Making predictions"
      ]
    },
    {
      "cell_type": "code",
      "metadata": {
        "id": "9WrRUQBJhe63",
        "colab": {
          "referenced_widgets": [
            "856ad68850ba4443b866bab953dcdb15"
          ]
        },
        "outputId": "921d3e3a-c4d5-4ce0-829c-9e240021f478"
      },
      "source": [
        "model.train(False) # disable dropout / use averages for batch_norm\n",
        "y_pred_values = []\n",
        "for X_batch in tqdm(test_loader, desc=\"test\"):\n",
        "    logits = model(Variable(torch.FloatTensor(X_batch).cuda()))\n",
        "    y_pred = logits.argmax(-1)\n",
        "    y_pred_values.append(y_pred)"
      ],
      "execution_count": null,
      "outputs": [
        {
          "output_type": "stream",
          "text": [
            "<ipython-input-17-2d68f42c713e>:3: TqdmDeprecationWarning: This function will be removed in tqdm==5.0.0\n",
            "Please use `tqdm.notebook.tqdm` instead of `tqdm.tqdm_notebook`\n",
            "  for X_batch in tqdm(test_loader, desc=\"test\"):\n"
          ],
          "name": "stderr"
        },
        {
          "output_type": "display_data",
          "data": {
            "application/vnd.jupyter.widget-view+json": {
              "model_id": "856ad68850ba4443b866bab953dcdb15",
              "version_major": 2,
              "version_minor": 0
            },
            "text/plain": [
              "HBox(children=(FloatProgress(value=0.0, description='test', max=1818.0, style=ProgressStyle(description_width=…"
            ]
          },
          "metadata": {
            "tags": []
          }
        },
        {
          "output_type": "stream",
          "text": [
            "\n"
          ],
          "name": "stdout"
        }
      ]
    },
    {
      "cell_type": "code",
      "metadata": {
        "id": "_RgkoWGDiMJM"
      },
      "source": [
        "y_pred = torch.cat(y_pred_values).cpu()"
      ],
      "execution_count": null,
      "outputs": []
    },
    {
      "cell_type": "code",
      "metadata": {
        "id": "kYtCIHpfkKcG",
        "outputId": "1f04f5cc-a69d-420a-935d-4ba0940aab03"
      },
      "source": [
        "y_pred.numpy()"
      ],
      "execution_count": null,
      "outputs": [
        {
          "output_type": "execute_result",
          "data": {
            "text/plain": [
              "array([ 5,  7, 16, ...,  0, 25, 24])"
            ]
          },
          "metadata": {
            "tags": []
          },
          "execution_count": 19
        }
      ]
    },
    {
      "cell_type": "code",
      "metadata": {
        "id": "jRd-thXaiWVn",
        "outputId": "256a7205-edfb-42d3-a8de-8cacf4036732"
      },
      "source": [
        "import pandas as pd\n",
        "\n",
        "df = pd.DataFrame(np.array([np.arange(len(y_pred)), y_pred.numpy()]).T, columns=['Id', 'Category'])\n",
        "df"
      ],
      "execution_count": null,
      "outputs": [
        {
          "output_type": "execute_result",
          "data": {
            "text/html": [
              "<div>\n",
              "<style scoped>\n",
              "    .dataframe tbody tr th:only-of-type {\n",
              "        vertical-align: middle;\n",
              "    }\n",
              "\n",
              "    .dataframe tbody tr th {\n",
              "        vertical-align: top;\n",
              "    }\n",
              "\n",
              "    .dataframe thead th {\n",
              "        text-align: right;\n",
              "    }\n",
              "</style>\n",
              "<table border=\"1\" class=\"dataframe\">\n",
              "  <thead>\n",
              "    <tr style=\"text-align: right;\">\n",
              "      <th></th>\n",
              "      <th>Id</th>\n",
              "      <th>Category</th>\n",
              "    </tr>\n",
              "  </thead>\n",
              "  <tbody>\n",
              "    <tr>\n",
              "      <th>0</th>\n",
              "      <td>0</td>\n",
              "      <td>5</td>\n",
              "    </tr>\n",
              "    <tr>\n",
              "      <th>1</th>\n",
              "      <td>1</td>\n",
              "      <td>7</td>\n",
              "    </tr>\n",
              "    <tr>\n",
              "      <th>2</th>\n",
              "      <td>2</td>\n",
              "      <td>16</td>\n",
              "    </tr>\n",
              "    <tr>\n",
              "      <th>3</th>\n",
              "      <td>3</td>\n",
              "      <td>1</td>\n",
              "    </tr>\n",
              "    <tr>\n",
              "      <th>4</th>\n",
              "      <td>4</td>\n",
              "      <td>6</td>\n",
              "    </tr>\n",
              "    <tr>\n",
              "      <th>...</th>\n",
              "      <td>...</td>\n",
              "      <td>...</td>\n",
              "    </tr>\n",
              "    <tr>\n",
              "      <th>116318</th>\n",
              "      <td>116318</td>\n",
              "      <td>6</td>\n",
              "    </tr>\n",
              "    <tr>\n",
              "      <th>116319</th>\n",
              "      <td>116319</td>\n",
              "      <td>0</td>\n",
              "    </tr>\n",
              "    <tr>\n",
              "      <th>116320</th>\n",
              "      <td>116320</td>\n",
              "      <td>0</td>\n",
              "    </tr>\n",
              "    <tr>\n",
              "      <th>116321</th>\n",
              "      <td>116321</td>\n",
              "      <td>25</td>\n",
              "    </tr>\n",
              "    <tr>\n",
              "      <th>116322</th>\n",
              "      <td>116322</td>\n",
              "      <td>24</td>\n",
              "    </tr>\n",
              "  </tbody>\n",
              "</table>\n",
              "<p>116323 rows × 2 columns</p>\n",
              "</div>"
            ],
            "text/plain": [
              "            Id  Category\n",
              "0            0         5\n",
              "1            1         7\n",
              "2            2        16\n",
              "3            3         1\n",
              "4            4         6\n",
              "...        ...       ...\n",
              "116318  116318         6\n",
              "116319  116319         0\n",
              "116320  116320         0\n",
              "116321  116321        25\n",
              "116322  116322        24\n",
              "\n",
              "[116323 rows x 2 columns]"
            ]
          },
          "metadata": {
            "tags": []
          },
          "execution_count": 20
        }
      ]
    },
    {
      "cell_type": "markdown",
      "metadata": {
        "id": "zpY2D4jo0t-8"
      },
      "source": [
        "###Saving predictions"
      ]
    },
    {
      "cell_type": "code",
      "metadata": {
        "id": "BqY6H4Cmko7S"
      },
      "source": [
        "df.to_csv('pred.csv', index=False)"
      ],
      "execution_count": null,
      "outputs": []
    }
  ]
}